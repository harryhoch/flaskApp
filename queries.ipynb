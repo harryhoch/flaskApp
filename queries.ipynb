{
 "cells": [
  {
   "cell_type": "code",
   "execution_count": 68,
   "metadata": {},
   "outputs": [
    {
     "name": "stdout",
     "output_type": "stream",
     "text": [
      "Overwriting queries.py\n"
     ]
    }
   ],
   "source": [
    "%%writefile queries.py\n",
    "import MySQLdb\n",
    "\n",
    "def testQuery(SGA):\n",
    "    mydb = MySQLdb.connect(\"localhost\", \"root\", \"root\", \"TDI\")\n",
    "    cursor = mydb.cursor()\n",
    "    query = \"SELECT * FROM SigSGADEGTumor where driver_gene_name = '%s'\"%(SGA)\n",
    "    cursor.execute(query)\n",
    "    result = cursor.fetchall()\n",
    "    degs = []\n",
    "    if len(result) == 0:\n",
    "        return degs\n",
    "    else:\n",
    "        for row in result:\n",
    "            degs.append(row[6])\n",
    "        return degs\n",
    "\n",
    "\n",
    "def getSGAtumorAll(SGA):\n",
    "    '''\n",
    "        get tumorset where SGA exists\n",
    "    '''\n",
    "    mydb = MySQLdb.connect(\"localhost\", \"root\", \"root\", \"TDI\")\n",
    "    cursor = mydb.cursor()\n",
    "    query = \" select S.patient_id from SGAs as S, Genes as G where S.gene_id = G.gene_id and G.gene_name = '%s'\"%(SGA)\n",
    "    cursor.execute(query)\n",
    "    results = cursor.fetchall()\n",
    "    tumorset = set()\n",
    "    for result in results:\n",
    "        tumorset.add(result[0])\n",
    "    return tumorset\n",
    "def getSGAtumordriver(SGA):\n",
    "    '''\n",
    "        get tumorset where SGA is driver\n",
    "    '''\n",
    "    mydb = MySQLdb.connect(\"localhost\", \"root\", \"root\", \"TDI\")\n",
    "    cursor = mydb.cursor()\n",
    "    query = \" select T.patient_id from TDI_driverCallPerTumor as T, Genes as G where T.gene_id = G.gene_id and G.gene_name = '%s'\"%(SGA)\n",
    "    cursor.execute(query)\n",
    "    results = cursor.fetchall()\n",
    "    tumorset = set()\n",
    "    for result in results:\n",
    "        tumorset.add(result[0])\n",
    "    return tumorset\n",
    "\n",
    "def getCT():\n",
    "    '''\n",
    "        get tumor types, save into disctionary\n",
    "    '''\n",
    "    mydb = MySQLdb.connect(\"localhost\", \"root\", \"root\", \"TDI\")\n",
    "    cursor = mydb.cursor()\n",
    "    query = \"select cancer_type_id, abbv from Cancer_Types\"\n",
    "    cursor.execute(query)\n",
    "    results = cursor.fetchall()\n",
    "    cancer_types = {}\n",
    "    for result in results:\n",
    "        #print result[0], result[1]\n",
    "        cancer_types[result[0]] = result[1]\n",
    "    return cancer_types\n",
    "\n",
    "def tumorCTdistribution(tumors):\n",
    "    '''\n",
    "        get tumorset cancer type distribution\n",
    "    '''\n",
    "    mydb = MySQLdb.connect(\"localhost\", \"root\", \"root\", \"TDI\")\n",
    "    cursor = mydb.cursor()\n",
    "    tumorset = '( '\n",
    "    tumorset = '(' + ', '.join(str(tumor) for tumor in tumors) + ')'\n",
    "    query = \"select cancer_type_id, count(*) from Patients where patient_id in %s group by cancer_type_id\"%(tumorset)\n",
    "    cursor.execute(query)\n",
    "    results = cursor.fetchall()\n",
    "    return results\n",
    "\n",
    "def getSGACTdistribution(SGA):\n",
    "    '''\n",
    "        get cancer type distribution and cancer types data\n",
    "    '''\n",
    "    tumorset_all = getSGAtumorAll(SGA)\n",
    "    tumorset_driver = getSGAtumordriver(SGA)\n",
    "    all_distribution = tumorCTdistribution(tumorset_all)\n",
    "    driver_distribution = tumorCTdistribution(tumorset_driver)\n",
    "    cancer_types = getCT()\n",
    "    return (all_distribution, driver_distribution, cancer_types)"
   ]
  },
  {
   "cell_type": "code",
   "execution_count": 97,
   "metadata": {},
   "outputs": [
    {
     "name": "stdout",
     "output_type": "stream",
     "text": [
      "Overwriting Hello.py\n"
     ]
    }
   ],
   "source": [
    "%%writefile Hello.py\n",
    "from flask import Flask, render_template, request, json, url_for\n",
    "from flask.ext.mysql import MySQL\n",
    "from werkzeug import generate_password_hash, check_password_hash\n",
    "#from flask_mysqldb import MySQL\n",
    "from queries import *\n",
    "\n",
    "app = Flask(__name__)\n",
    "mysql = MySQL(app)\n",
    "# MySQL configurations\n",
    "app.config['MYSQL_DATABASE_USER'] = 'root'\n",
    "app.config['MYSQL_DATABASE_PASSWORD'] = 'root'\n",
    "app.config['MYSQL_DATABASE_DB'] = 'TDI'\n",
    "app.config['MYSQL_DATABASE_HOST'] = 'localhost'\n",
    "app.config['MYSQL_DATABASE_PORT'] = 3306\n",
    "mysql.init_app(app)\n",
    "\n",
    "@app.route('/test/')\n",
    "def test():\n",
    "    name = request.form['SGA']\n",
    "    #return render_template('test.html', name = name)\n",
    "    return render_template('test.html', name = name)\n",
    "    \n",
    "@app.route('/')\n",
    "def main():\n",
    "    (all_distribution, driver_distribution, cancer_types) = getSGACTdistribution('MUC6')\n",
    "    all_distribution = list(int(i[1]) for i in all_distribution)\n",
    "    driver_distribution = list(int(i[1]) for i in driver_distribution)\n",
    "    return render_template('index.html', all_distribution = all_distribution, driver_distribution = driver_distribution, cancer_types = cancer_types)\n",
    "    \n",
    "    #return render_template('index.html')\n",
    "\n",
    "\n",
    "@app.route('/showSignUp')\n",
    "def showSignUp():\n",
    "    return render_template('signup.html')\n",
    "\n",
    "\n",
    "@app.route('/test/', methods=['POST', 'GET'])\n",
    "def result():\n",
    "    name = str(request.form.get('SGA', None))\n",
    "    (all_distribution, driver_distribution, cancer_types) = getSGACTdistribution(name)\n",
    "    all_distribution = list(int(i[1]) for i in all_distribution)\n",
    "    driver_distribution = list(int(i[1]) for i in driver_distribution)\n",
    "    return render_template('result.html', all_distribution = all_distribution, driver_distribution = driver_distribution, cancer_types = cancer_types)\n",
    "    #return render_template('result.html', name = name)\n",
    "if __name__ == '__main__':\n",
    "    app.run()\n"
   ]
  },
  {
   "cell_type": "code",
   "execution_count": 66,
   "metadata": {},
   "outputs": [
    {
     "name": "stdout",
     "output_type": "stream",
     "text": [
      "1908\n",
      "1908\n"
     ]
    }
   ],
   "source": [
    "print len(A)\n",
    "print len(B)"
   ]
  },
  {
   "cell_type": "code",
   "execution_count": 28,
   "metadata": {},
   "outputs": [
    {
     "data": {
      "text/plain": [
       "'BLCA'"
      ]
     },
     "execution_count": 28,
     "metadata": {},
     "output_type": "execute_result"
    }
   ],
   "source": [
    "cancer_types[1]"
   ]
  },
  {
   "cell_type": "code",
   "execution_count": 10,
   "metadata": {},
   "outputs": [],
   "source": [
    "A = getSGACTAll('TP53')\n",
    "B = getSGACTdriver('TP53')"
   ]
  },
  {
   "cell_type": "code",
   "execution_count": 45,
   "metadata": {},
   "outputs": [],
   "source": [
    "tumors = set([1,2,3,4,5,6,7,8,9])\n",
    "tumorset = ', '.join(str(tumor) for tumor in tumors)"
   ]
  },
  {
   "cell_type": "code",
   "execution_count": 46,
   "metadata": {},
   "outputs": [
    {
     "data": {
      "text/plain": [
       "'1, 2, 3, 4, 5, 6, 7, 8, 9'"
      ]
     },
     "execution_count": 46,
     "metadata": {},
     "output_type": "execute_result"
    }
   ],
   "source": [
    "tumorset"
   ]
  },
  {
   "cell_type": "code",
   "execution_count": null,
   "metadata": {
    "collapsed": true
   },
   "outputs": [],
   "source": []
  }
 ],
 "metadata": {
  "kernelspec": {
   "display_name": "Python 2",
   "language": "python",
   "name": "python2"
  },
  "language_info": {
   "codemirror_mode": {
    "name": "ipython",
    "version": 2
   },
   "file_extension": ".py",
   "mimetype": "text/x-python",
   "name": "python",
   "nbconvert_exporter": "python",
   "pygments_lexer": "ipython2",
   "version": "2.7.12"
  }
 },
 "nbformat": 4,
 "nbformat_minor": 2
}
